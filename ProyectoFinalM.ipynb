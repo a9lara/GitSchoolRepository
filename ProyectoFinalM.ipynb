{
 "metadata": {
  "language": "Julia",
  "name": "",
  "signature": "sha256:ce510e102f59988a2826c2060decd978806a80ea403d2890a07da9166ecf8c5f"
 },
 "nbformat": 3,
 "nbformat_minor": 0,
 "worksheets": [
  {
   "cells": [
    {
     "cell_type": "heading",
     "level": 4,
     "metadata": {},
     "source": [
      "$$Lara D.I. Armando J.$$\n",
      "\n",
      "\n",
      "$$Miron Enriquez Pedro Elias$$"
     ]
    },
    {
     "cell_type": "heading",
     "level": 2,
     "metadata": {},
     "source": [
      "Proyecto Final F\u00edsica Computacional"
     ]
    },
    {
     "cell_type": "heading",
     "level": 2,
     "metadata": {},
     "source": [
      "UNAM"
     ]
    },
    {
     "cell_type": "heading",
     "level": 2,
     "metadata": {},
     "source": [
      " Modelo de la aparici\u00f3n de no conformistas en una sociedad."
     ]
    },
    {
     "cell_type": "heading",
     "level": 4,
     "metadata": {},
     "source": [
      "Introduci\u00f3n"
     ]
    },
    {
     "cell_type": "markdown",
     "metadata": {},
     "source": [
      "En un libro titulado  $\\textit{Looking at History Through Mathematics}$, se propone un modelo de un problema referente a la aparici\u00f3n de no conformistas de la sociedad. Supongamos que una sociedad tiene una poblaci\u00f3n de $s(t)$ individuos en el tiempo $t$ , en a\u00f1os, y que todos los no conformistas que tienen relaciones sexuales con otros no conformistas engendran hijos que tambien son no conformistas, mientras que una porci\u00f3n fija $r$ del resto de los hijos tambi\u00e9n son no conformistas."
     ]
    },
    {
     "cell_type": "heading",
     "level": 4,
     "metadata": {},
     "source": [
      "Desarrollo"
     ]
    },
    {
     "cell_type": "heading",
     "level": 4,
     "metadata": {},
     "source": [
      "Modelo bajo las ecuaciones"
     ]
    },
    {
     "cell_type": "markdown",
     "metadata": {},
     "source": [
      "- Si suponemos que las tasas de natalidad y mortalidad de todos los individuos son las constantes $b$ y $d$ respectivamente, y si los conformitas y no conformistas tienen relaciones sexuales al azar, el problema se puede expresar mediante las ecuaciones diferenciales $vs(t) = (b-d)s(t)$ y $vn(t)=(b-d)n(t)+rb(s(t)-n(t))$, donde $n(t)$ denota la cantidad de no conformistas de la poblaci\u00f3n en el tiempo $t$. Adem\u00e1s, si introducimos la variable $p(t)=\\frac{n(t)}{s(t)}$ para representar la proporc\u00f3n de no conformistas de la sociedad en el tiempo $t$, estas ecuaciones pueden combinarse y simplificarse en la ecuaci\u00f3n diferencial individial $vp(t)=rb(1-p(t))$."
     ]
    },
    {
     "cell_type": "heading",
     "level": 4,
     "metadata": {},
     "source": [
      "Objetivo"
     ]
    },
    {
     "cell_type": "markdown",
     "metadata": {},
     "source": [
      "Los conformistas y no conformistas tienen relaciones sexuales al azar, el objetivo es, mediante ecuaciones diferenciales ya establecidas hacer un modelo de la aparici\u00f3n de no conformistas en una sociedad.  "
     ]
    },
    {
     "cell_type": "heading",
     "level": 4,
     "metadata": {},
     "source": [
      "Notaci\u00f3n"
     ]
    },
    {
     "cell_type": "markdown",
     "metadata": {},
     "source": [
      "$s(t)$ representa el n\u00famero de INDIVIDUOS en una poblaci\u00f3n en un tiempo $t$.\n",
      "\n",
      "$vs(t)$ representa la velocidad con la que el n\u00famero de INDIVIDUOS en una poblaci\u00f3n crece conforme pasa el tiempo.\n",
      "\n",
      "$n(t)$ denota la cantidad de NO CONFORMISTAS de la poblaci\u00f3n en el tiempo $t$.\n",
      "\n",
      "$vn(t)$ representa la velocidad con la que el n\u00famero de NO CONFORMISTAS en una poblaci\u00f3n crece conforme pasa el tiempo.\n",
      "\n",
      "$b$ es la tasa de natalidad.\n",
      "\n",
      "$d$ es la tasa de mortalidad.\n",
      "\n",
      "Todos los NO CONFORMISTAS que tiene relaciones sexuales con otros NO CONFORMISTAS engendran hijos que tambi\u00e9n son NO CONFORMISTAS.\n",
      "\n",
      "$r$ es una cantidad fija del resto de los hijos de la poblaci\u00f3n que son NO CONFORMISTAS.\n",
      "\n",
      "$t$ se maneja en a\u00f1os."
     ]
    },
    {
     "cell_type": "heading",
     "level": 4,
     "metadata": {},
     "source": [
      "Ecuaci\u00f3nes"
     ]
    },
    {
     "cell_type": "markdown",
     "metadata": {},
     "source": [
      "Ecuaci\u00f3n diferencial que nos dice la velocidad con la que crece la poblaci\u00f3n cuando CONFORMISTAS y NO CONFORMISTAS tienen relaciones sexuales al azar.\n",
      " \n",
      " $vs(t) = (b-d)s(t)$            "
     ]
    },
    {
     "cell_type": "markdown",
     "metadata": {},
     "source": [
      "Ecuaci\u00f3n diferencial que nos dice la velocidad con la que aparecen NO CONFORMISTAS en una sociedad. \n",
      "\n",
      "$vn(t)=(b-d)n(t)+rb(s(t)-n(t))$"
     ]
    },
    {
     "cell_type": "markdown",
     "metadata": {},
     "source": [
      "Ecuaci\u00f3n que nos dice la proporc\u00f3n de NO CONFORMISTAS de la sociedad en el tiempo $t$,\n",
      "\n",
      "$p(t)=\\frac{n(t)}{s(t)}$"
     ]
    },
    {
     "cell_type": "markdown",
     "metadata": {},
     "source": [
      "Ecuaci\u00f3n diferencial que nos dice la velocidad con la cu\u00e1l la proporci\u00f3n de NO CONFORMISTAS de la sociedad crece.\n",
      "\n",
      "$vp(t)=rb(1-p(t))$."
     ]
    },
    {
     "cell_type": "heading",
     "level": 4,
     "metadata": {},
     "source": [
      "La notaci\u00f3n para las funciones ser\u00e1:"
     ]
    },
    {
     "cell_type": "markdown",
     "metadata": {},
     "source": [
      "\n",
      "\n",
      "$b$ $\\rightarrow$  tasa de natalidad.\n",
      "\n",
      "$d$ $\\rightarrow$  tasa de mortalidad.\n",
      "\n",
      "$r$ $\\rightarrow$  cantidad fija del resto de los hijos de la poblaci\u00f3n que son NO CONFORMISTAS.\n",
      "\n",
      "s0 $\\rightarrow$ El n\u00famero de INIDIVIDUOS en una sociedad en un tiempo inicial.\n",
      "\n",
      "n0 $\\rightarrow$  El n\u00famero de NO CONFORMISTAS en un tiempo inicial.\n",
      "\n",
      "p0 $\\rightarrow$ La proporc\u00f3n de NO CONFORMISTAS de la sociedad en un tiempo incial.\n",
      "\n",
      "ti $\\rightarrow$  tiempo inicial\n",
      "\n",
      "h $\\rightarrow$  paso del tiempo\n",
      "\n",
      "tf $\\rightarrow$  tiempo final \n",
      "\n",
      "\n",
      "\n",
      "\n",
      "\n"
     ]
    },
    {
     "cell_type": "heading",
     "level": 4,
     "metadata": {},
     "source": [
      "El orden ser\u00e1"
     ]
    },
    {
     "cell_type": "markdown",
     "metadata": {},
     "source": [
      "$(b,d,r,s0,n0,p0,ti,h,tf)$"
     ]
    },
    {
     "cell_type": "heading",
     "level": 4,
     "metadata": {},
     "source": [
      "Definimos las ecuaci\u00f3nes como funciones"
     ]
    },
    {
     "cell_type": "code",
     "collapsed": false,
     "input": [
      "function s(b,d,r,s0,n0,p0,ti,h,tf)\n",
      "    (b-d)*s0*h\n",
      "end"
     ],
     "language": "python",
     "metadata": {},
     "outputs": [
      {
       "metadata": {},
       "output_type": "pyout",
       "prompt_number": 2,
       "text": [
        "s (generic function with 1 method)"
       ]
      }
     ],
     "prompt_number": 2
    },
    {
     "cell_type": "code",
     "collapsed": false,
     "input": [
      "function vs(b,d,r,s0,n0,p0,ti,h,tf)\n",
      "    (b-d)*s0\n",
      "end"
     ],
     "language": "python",
     "metadata": {},
     "outputs": [
      {
       "metadata": {},
       "output_type": "pyout",
       "prompt_number": 3,
       "text": [
        "vs (generic function with 1 method)"
       ]
      }
     ],
     "prompt_number": 3
    },
    {
     "cell_type": "code",
     "collapsed": false,
     "input": [
      "function n(b,d,r,s0,n0,p0,ti,h,tf)\n",
      "    (b-d)*n0*h+r*b*(s0-n0)*h\n",
      "end"
     ],
     "language": "python",
     "metadata": {},
     "outputs": [
      {
       "metadata": {},
       "output_type": "pyout",
       "prompt_number": 4,
       "text": [
        "n (generic function with 1 method)"
       ]
      }
     ],
     "prompt_number": 4
    },
    {
     "cell_type": "code",
     "collapsed": false,
     "input": [
      "function vn(b,d,r,s0,n0,p0,ti,h,tf)\n",
      "    (b-d)*n0+r*b*(s0-n0)\n",
      "end"
     ],
     "language": "python",
     "metadata": {},
     "outputs": [
      {
       "metadata": {},
       "output_type": "pyout",
       "prompt_number": 5,
       "text": [
        "vn (generic function with 1 method)"
       ]
      }
     ],
     "prompt_number": 5
    },
    {
     "cell_type": "code",
     "collapsed": false,
     "input": [
      "function p(b,d,r,s0,n0,p0,ti,h,tf)\n",
      "    n(b,d,r,s0,n0,ti,h,tf)/s(b,d,r,s0,n0,ti,h,tf)\n",
      "end"
     ],
     "language": "python",
     "metadata": {},
     "outputs": [
      {
       "metadata": {},
       "output_type": "pyout",
       "prompt_number": 6,
       "text": [
        "p (generic function with 1 method)"
       ]
      }
     ],
     "prompt_number": 6
    },
    {
     "cell_type": "code",
     "collapsed": false,
     "input": [
      "function vp(b,d,r,s0,n0,ti,h,tf)\n",
      "    r*b*(1-p0)\n",
      "end"
     ],
     "language": "python",
     "metadata": {},
     "outputs": [
      {
       "metadata": {},
       "output_type": "pyout",
       "prompt_number": 7,
       "text": [
        "vp (generic function with 1 method)"
       ]
      }
     ],
     "prompt_number": 7
    },
    {
     "cell_type": "heading",
     "level": 4,
     "metadata": {},
     "source": [
      "Primero defin\u00ed las constantes para el m\u00e9todo de Runge-Kutta"
     ]
    },
    {
     "cell_type": "code",
     "collapsed": false,
     "input": [
      "k_1(x,t,f,h)=f(x,t)\n",
      "k_2(x,t,f,h)=f(x+h*0.5*k_1(x,t,f,h),t+0.5*h)\n",
      "k_3(x,t,f,h)=f(x+h*0.5*k_2(x,t,f,h),t+0.5*h)\n",
      "k_4(x,t,f,h)=f(x+h*k_3(x,t,f,h),t+0.5*h)\n"
     ],
     "language": "python",
     "metadata": {},
     "outputs": [
      {
       "metadata": {},
       "output_type": "pyout",
       "prompt_number": 8,
       "text": [
        "k_4 (generic function with 1 method)"
       ]
      }
     ],
     "prompt_number": 8
    },
    {
     "cell_type": "code",
     "collapsed": false,
     "input": [
      "function integrar(m,f,x0,t0,tf,h)\n",
      "    \n",
      "    eu=Vector{Float64}[[x0]]\n",
      "    ptm=Vector{Float64}[[x0]]\n",
      "    rk4=Vector{Float64}[[x0]]\n",
      "    t=Float64[t0]\n",
      "    \n",
      "    if string(m)==\"euler\"\n",
      "        \n",
      "        for ti in t0:h:tf\n",
      "        \n",
      "            eu_nueva=x0 + h*f(x0,ti)\n",
      "        \n",
      "            x0=eu_nueva\n",
      "        \n",
      "        \n",
      "            push!(t,ti)\n",
      "            push!(eu,[x0])\n",
      "        \n",
      "        end\n",
      "        \n",
      "    t,hcat(eu...)'\n",
      "        \n",
      "        \n",
      "    elseif string(m)==\"midpoint\"\n",
      "        \n",
      "        for i in t0:h:tf\n",
      "        \n",
      "            ptm_nueva=x0+h*f(x0+h*0.5*f(x0,t0),t0+h*0.5)\n",
      "        \n",
      "            t0=t0+h\n",
      "            x0=ptm_nueva\n",
      "        \n",
      "        \n",
      "            push!(t,t0)\n",
      "            push!(ptm,[x0]) \n",
      "            \n",
      "        end\n",
      "        \n",
      "    t,hcat(ptm...)'\n",
      "        \n",
      "    else \n",
      "        \n",
      "        print (\"Runge--Kutta de cuarto grado\") #para que el usuario sepa que esta haciendo el c\u00f3digo\n",
      "        \n",
      "            for i in t0:h:tf\n",
      "        \n",
      "                rk4_nueva=x0+h*(1/3*k_1(x0,t0,f,h)+1/6*k_2(x0,t0,f,h)+1/6*k_3(x0,t0,f,h)+1/3*k_4(x0,t0,f,h))\n",
      "        \n",
      "                t0=t0+h\n",
      "                x0=rk4_nueva\n",
      "        \n",
      "        \n",
      "                push!(t,t0)\n",
      "                push!(rk4,[x0])\n",
      "            \n",
      "            end\n",
      "        \n",
      "        \n",
      "         t,hcat(rk4...)'\n",
      "            \n",
      "        \n",
      "        end\n",
      "    \n",
      "end"
     ],
     "language": "python",
     "metadata": {},
     "outputs": [
      {
       "metadata": {},
       "output_type": "pyout",
       "prompt_number": 9,
       "text": [
        "integrar (generic function with 1 method)"
       ]
      }
     ],
     "prompt_number": 9
    },
    {
     "cell_type": "markdown",
     "metadata": {},
     "source": [
      "- 1) Suponiendo que $p(0)=0.01$, $b=0.02$, $d=0.015$ y $r=0.1$, aproxime la soluci\u00f3n $p(t)$ de $t=0$ a $t=50$ con el tama\u00f1o de paso $h=1$ a\u00f1o. Use el m\u00e9todo de Runge Kutta 4."
     ]
    },
    {
     "cell_type": "code",
     "collapsed": false,
     "input": [
      "function vel_nc(p,t)\n",
      "    0.1*0.02*(1-p)\n",
      "end"
     ],
     "language": "python",
     "metadata": {},
     "outputs": [
      {
       "metadata": {},
       "output_type": "pyout",
       "prompt_number": 10,
       "text": [
        "vel_nc (generic function with 1 method)"
       ]
      }
     ],
     "prompt_number": 10
    },
    {
     "cell_type": "code",
     "collapsed": false,
     "input": [
      "resultados=integrar(\"4\",vel_nc,0.01,0,50,1);\n"
     ],
     "language": "python",
     "metadata": {},
     "outputs": [
      {
       "output_type": "stream",
       "stream": "stdout",
       "text": [
        "Runge--Kutta de cuarto grado"
       ]
      }
     ],
     "prompt_number": 13
    },
    {
     "cell_type": "code",
     "collapsed": false,
     "input": [
      "using PyPlot"
     ],
     "language": "python",
     "metadata": {},
     "outputs": [],
     "prompt_number": 14
    },
    {
     "cell_type": "markdown",
     "metadata": {},
     "source": [
      "- 2) Resuelva la ecuaci\u00f3n diferencial para $p(t)$ exactamente y compare su resultado cuando $t=50$ con el valor exacto en ese tiempo."
     ]
    },
    {
     "cell_type": "markdown",
     "metadata": {},
     "source": [
      "La solucion analitica de $\\frac{dp(t)}{dt}=rb(1-p(t))$ es $p(t)=c_1\\exp(-rbt)+1$, donde la condici\u00f3n inicial es $p(0)=0.01$, entonces $c_1=-0.99$, r=0.1 y b=0.02 entonces\n",
      "\n",
      "$$p(t)=-0.99\\exp(-0.002t)+1$$\n",
      "\n",
      "sustituyendo t=50, tenemos que \n",
      "\n",
      "$$p(50)=0.1042109$$\n",
      "\n",
      "en comparaci\u00f3n con el m\u00e9todo de Runge$-$Kutta, que para el tiempo $t=50$  $p(50)=0.1042110$, entonces tenemos que en comparaci\u00f3n con el m\u00e9todo analitico, el m\u00e9todo Runge-Kutta tuvo una diferecia de $10^{-7}$"
     ]
    },
    {
     "cell_type": "markdown",
     "metadata": {},
     "source": [
      "- 3) Muestre, es una misma gr\u00e1fica, la soluci\u00f3n num\u00e9rica y la soluci\u00f3n exacta."
     ]
    },
    {
     "cell_type": "code",
     "collapsed": false,
     "input": [
      "plot(resultados[1],resultados[2])\n",
      "plot(resultados[1],-0.99*exp(-0.002*resultados[1])+1)"
     ],
     "language": "python",
     "metadata": {},
     "outputs": [
      {
       "metadata": {},
       "output_type": "display_data",
       "png": "[encoded data removed]",
       "text": [
        "Figure(PyObject <matplotlib.figure.Figure object at 0xb633c82c>)"
       ]
      },
      {
       "metadata": {},
       "output_type": "pyout",
       "prompt_number": 15,
       "text": [
        "1-element Array{Any,1}:\n",
        " PyObject <matplotlib.lines.Line2D object at 0xb61f384c>"
       ]
      }
     ],
     "prompt_number": 15
    },
    {
     "cell_type": "markdown",
     "metadata": {},
     "source": [
      "- 4) Para las tablas $t$ $vs$ $p$ (para cada m\u00e9todo num\u00e9rico y la soluci\u00f3n exacta), tomando seis puntos igualmente espaciados, in terpolar polinomios de Newton. Graficar polinomios. Formule apreciaciones cualitativas, obtenidas del an\u00e1lisis de las gr\u00e1 ficas."
     ]
    },
    {
     "cell_type": "code",
     "collapsed": false,
     "input": [],
     "language": "python",
     "metadata": {},
     "outputs": [],
     "prompt_number": 16
    },
    {
     "cell_type": "markdown",
     "metadata": {},
     "source": [
      "- 5)Para las tablas $t$ $vs$ $x$ y $t$ $vs$ $x'$ (para cada m\u00e9todo num\u00e9rico y la soluci\u00f3n exacta),\n",
      "tomando seis puntos igualmente espaciados, interpolar polinomios de Hermite. Graficar estos polinomios. Formule apreciaciones cualitativas, obtenidas del an\u00e1lisis de lasgr\u00e1ficas."
     ]
    },
    {
     "cell_type": "heading",
     "level": 4,
     "metadata": {},
     "source": [
      "Para hacer el problema un poco mas interesante podemos incluir un factor de dispersi\u00f3n, para saber como este t\u00e9rmno es manejado en el contexto de poblaciones, a continuaci\u00f3n va el desarrollo de un problema que lo hace."
     ]
    },
    {
     "cell_type": "heading",
     "level": 4,
     "metadata": {},
     "source": [
      "La propagaci\u00f3n de rabia"
     ]
    },
    {
     "cell_type": "markdown",
     "metadata": {},
     "source": [
      "Problema que encontr\u00e9 como ejemplo en las notas *\"Reaction-Diffusion equations with applications\"* de Christina Kuttler"
     ]
    },
    {
     "cell_type": "markdown",
     "metadata": {},
     "source": [
      "    La propagaci\u00f3n de rabia parece darse en ondas, por ejemplo, una que se origine de la frontera entre Rusia y Polonia donde la velocidad de propagaci\u00f3n es de aproximadamente 30 km/a\u00f1o.\n",
      "    \n",
      "   **Supocisiones sobre el sistema**\n",
      "    \n",
      "   - 1) Hay dos poblaciones de zorros:\n",
      "       - Zorros suceptibles a ser infectados S que son territoriales (no hay t\u00e9rmino de difusi\u00f3n).\n",
      "       - Zorros infectados I que muestran un comportamiento err\u00e1tico (t\u00e9rmino de difusi\u00f3n) y mueren constantemente.\n",
      "   \n",
      "   \n",
      "   \n",
      "   - 2) El ritmo de infecci\u00f3n se asume como proporcional a la densidad de poblaci\u00f3n, no hay reproducci\u00f3n o m\u00e1s contagios:\n",
      "   \n",
      "\n",
      "   - 3) La rabia se propaga como una onda\n",
      "\n",
      "    1) y 2) pueden ser modelados de la siguiente manera:\n",
      "    \n",
      "  $$\\frac{\\partial S}{\\partial t}= -rIS$$\n",
      "  \n",
      "  \n",
      "  $$\\frac{\\partial I}{\\partial t}= rIS -aI + D\\frac{\\partial^2 I}{\\partial t^2} $$\n",
      "  \n",
      "  \n",
      "   Adimensionalizando esta ecuaci\u00f3n al introducir $m=\\frac{a}{rS_0}$, tenemos el conjunto de ecuaciones:\n",
      "   \n",
      "   $$\\frac{\\partial S}{\\partial t}= -IS$$\n",
      "  \n",
      "  \n",
      "  $$\\frac{\\partial I}{\\partial t}= IS -mI + \\frac{\\partial^2 I}{\\partial t^2} $$\n",
      "  \n",
      "  \n",
      "  Por \u00faltimo al suponer que se propaga como una onda:\n",
      "  \n",
      "  $$S(x,t) = S(x-ct) = S(z)$$\n",
      "  \n",
      "  \n",
      "  $$I(x,t) = I(x-ct) = I(z)$$\n",
      "\n",
      "Lo que nos da como resultado las ecuaciones:\n",
      "\n",
      "$$ cS'= IS$$\n",
      "\n",
      "$$ I'' - cI + (S-m)I= 0$$\n",
      "\n",
      "Donde adem\u00e1s introducimos las siguientes condiciones de frontera al suponer que muy lejos la poblaci\u00f3n de zorros infectados desaparece, y solo queda la poblacion de zorros suceptibles.\n",
      "\n",
      "\n",
      "$$S(+ \\infty)=1$$\n",
      "\n",
      "\n",
      "$$I(- \\infty)=0$$\n",
      "\n",
      "Al tambi\u00e9n suponer que despu\u00e9s del paso de la onda no hay fuentes de infeccion ,ya que la mayor\u00eda de los casos de rabia son fatales, y que la poblaci\u00f3n de zorros se termina por estabilizar tambien tenmos las condiciones:\n",
      "\n",
      "$$I(-\\infty)=0$$\n",
      "\n",
      "y \n",
      "\n",
      "\n",
      "$$S'(-\\infty)=0$$\n",
      "\n",
      "Podemos sustituir una de las ecuaciones que describen el sistema en la otra, lo que nos da la ecuaci\u00f3n que queremos resolver:\n",
      "\n",
      "$$ I'' - cI + \\frac{cS'(S-m)}{S}= 0$$\n",
      "\n",
      "\n"
     ]
    },
    {
     "cell_type": "markdown",
     "metadata": {},
     "source": [
      "El modelo que considera dinamicas de poblecion se puede escribir como sigue:\n",
      "\n",
      "$$\\frac{\\partial S}{\\partial t}= -rIS +BS(1-\\frac{S}{S_0})$$\n",
      "\n",
      "\n",
      "$$\\frac{\\partial I}{\\partial t}= rIS -aI + D\\frac{\\partial^2 I}{\\partial x^2} $$\n"
     ]
    },
    {
     "cell_type": "heading",
     "level": 2,
     "metadata": {},
     "source": [
      "Soluci\u00f3n de \n",
      "$$ cS'= IS$$\n",
      "\n",
      "$$ I'' - cI' + (S-m)I= 0$$"
     ]
    },
    {
     "cell_type": "markdown",
     "metadata": {},
     "source": [
      "Haciendo el cambi\u00f3 de variable:\n",
      "\n",
      "$$I'=v$$\n",
      "\n",
      "$$S'=\\frac{IS}{c}$$\n",
      "\n",
      "$$v'=cv-(S-m)I$$\n",
      "\n",
      "Ecuaciones que podemos traducir en una funci\u00f3n vectorial para que sean resueltas por el m\u00e9tododo de Runge-Kutta.\n"
     ]
    },
    {
     "cell_type": "code",
     "collapsed": false,
     "input": [
      "function rabies_nb(x,t)\n",
      "    I=x[1]\n",
      "    S=x[2]\n",
      "    v=x[3]\n",
      "    \n",
      "    [v, (I*S)/0.1, 0.1*v-(S-0.1)*I]\n",
      "end\n",
      "    "
     ],
     "language": "python",
     "metadata": {},
     "outputs": [
      {
       "metadata": {},
       "output_type": "pyout",
       "prompt_number": 42,
       "text": [
        "rabies_nb (generic function with 1 method)"
       ]
      }
     ],
     "prompt_number": 42
    },
    {
     "cell_type": "code",
     "collapsed": false,
     "input": [
      "x0=[0.2,0.8,0.1]\n"
     ],
     "language": "python",
     "metadata": {},
     "outputs": [
      {
       "metadata": {},
       "output_type": "pyout",
       "prompt_number": 53,
       "text": [
        "3-element Array{Float64,1}:\n",
        " 0.2\n",
        " 0.8\n",
        " 0.1"
       ]
      }
     ],
     "prompt_number": 53
    },
    {
     "cell_type": "code",
     "collapsed": false,
     "input": [
      "tps,resultados_rab=integrar(\"4\",rabies_nb,x0,0,10,0.01);\n"
     ],
     "language": "python",
     "metadata": {},
     "outputs": [
      {
       "output_type": "stream",
       "stream": "stdout",
       "text": [
        "Runge--Kutta de cuarto grado"
       ]
      }
     ],
     "prompt_number": 50
    },
    {
     "cell_type": "code",
     "collapsed": false,
     "input": [
      "plot(tps,resultados_rab[:;1])\n",
      "plot(tps,resultados_rab[:;2])\n",
      "#plot(tps,resultados_rab[:;3])"
     ],
     "language": "python",
     "metadata": {},
     "outputs": [
      {
       "metadata": {},
       "output_type": "display_data",
       "png": "[encoded data removed]",
       "text": [
        "Figure(PyObject <matplotlib.figure.Figure object at 0xab80fb8c>)"
       ]
      },
      {
       "metadata": {},
       "output_type": "pyout",
       "prompt_number": 51,
       "text": [
        "1-element Array{Any,1}:\n",
        " PyObject <matplotlib.lines.Line2D object at 0xab769d8c>"
       ]
      }
     ],
     "prompt_number": 51
    },
    {
     "cell_type": "heading",
     "level": 3,
     "metadata": {},
     "source": [
      "Ahora consideramos el modelo con dinamica poblacional, es decir la ecuaci\u00f3n :\n",
      "\n",
      "$$ cS'= IS +BS(1-\\frac{S}{S_0})$$\n",
      "\n",
      "$$ I'' - cI' + (S-m)I= 0$$"
     ]
    },
    {
     "cell_type": "code",
     "collapsed": false,
     "input": [
      "function rabies_dinp(x,t)\n",
      "    I=x[1]\n",
      "    S=x[2]\n",
      "    v=x[3]\n",
      "    \n",
      "    [v, (I*S+1*S*(1-S/1))/0.3, 0.3*v-(S-0.01)*I]\n",
      "end"
     ],
     "language": "python",
     "metadata": {},
     "outputs": [
      {
       "metadata": {},
       "output_type": "pyout",
       "prompt_number": 246,
       "text": [
        "rabies_dinp (generic function with 1 method)"
       ]
      }
     ],
     "prompt_number": 246
    },
    {
     "cell_type": "code",
     "collapsed": false,
     "input": [
      "x1=[0.2,0.8,0.1]\n",
      "\n",
      "tps,resultados_din=integrar(\"4\",rabies_dinp,x1,0,10,0.1);\n"
     ],
     "language": "python",
     "metadata": {},
     "outputs": [
      {
       "output_type": "stream",
       "stream": "stdout",
       "text": [
        "Runge--Kutta de cuarto grado"
       ]
      }
     ],
     "prompt_number": 249
    },
    {
     "cell_type": "code",
     "collapsed": false,
     "input": [
      "plot(tps,resultados_din[:;1])\n",
      "plot(tps,resultados_din[:;2])\n",
      "#plot(tps,resultados_din[:;3])"
     ],
     "language": "python",
     "metadata": {},
     "outputs": [
      {
       "metadata": {},
       "output_type": "display_data",
       "png": "[encoded data removed]",
       "text": [
        "Figure(PyObject <matplotlib.figure.Figure object at 0xa2873d4c>)"
       ]
      },
      {
       "metadata": {},
       "output_type": "pyout",
       "prompt_number": 250,
       "text": [
        "1-element Array{Any,1}:\n",
        " PyObject <matplotlib.lines.Line2D object at 0xa1d5b30c>"
       ]
      }
     ],
     "prompt_number": 250
    },
    {
     "cell_type": "heading",
     "level": 4,
     "metadata": {},
     "source": [
      "Bibliograf\u00eda"
     ]
    },
    {
     "cell_type": "markdown",
     "metadata": {},
     "source": [
      "Proyecto sugerido por la Universidad Nacional Colombiana."
     ]
    },
    {
     "cell_type": "markdown",
     "metadata": {},
     "source": [
      "#END"
     ]
    }
   ],
   "metadata": {}
  }
 ]
}