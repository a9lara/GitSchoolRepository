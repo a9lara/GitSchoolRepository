{
 "metadata": {
  "language": "Julia",
  "name": "",
  "signature": "sha256:be7695b06a9657e865e51cd91d3fe651963730add6fd1e7ab998d57ade0624af"
 },
 "nbformat": 3,
 "nbformat_minor": 0,
 "worksheets": [
  {
   "cells": [
    {
     "cell_type": "heading",
     "level": 1,
     "metadata": {},
     "source": [
      "$$Lara D\u00edaz Infante Armando Jos\u00e9$$\n",
      "\n",
      "\n"
     ]
    },
    {
     "cell_type": "heading",
     "level": 1,
     "metadata": {},
     "source": [
      "$$Miron Enriquez Pedro Elias$$"
     ]
    },
    {
     "cell_type": "heading",
     "level": 2,
     "metadata": {},
     "source": [
      "Proyecto Final F\u00edsica Computacional"
     ]
    },
    {
     "cell_type": "heading",
     "level": 2,
     "metadata": {},
     "source": [
      "Facultad de Ciencias - UNAM"
     ]
    },
    {
     "cell_type": "heading",
     "level": 2,
     "metadata": {},
     "source": [
      "$$Propagaci\u00f3n de Rabia$$"
     ]
    },
    {
     "cell_type": "heading",
     "level": 3,
     "metadata": {},
     "source": [
      "Introducci\u00f3n"
     ]
    },
    {
     "cell_type": "markdown",
     "metadata": {},
     "source": [
      "Actualmente en Latinoam\u00e9rica existen al rededor de 8 300 000 perros, de ellos unos 14 110 perros son perros con rabia.\n",
      "\n",
      "Se estudiaran dos casos, uno de ellos es sin dim\u00e1mica de poblaci\u00f3n, y el seguno ser\u00e1 con din\u00e1mica de poblaci\u00f3n. Es decir: \n",
      "\n",
      "Hay dos poblaciones de perros:\n",
      "\n",
      "       Grupo A -  Perros suceptibles a ser infectados S que son territoriales (no hay t\u00e9rmino de difusi\u00f3n).\n",
      "       Grupo B -  Perros infectados I que muestran un comportamiento err\u00e1tico (t\u00e9rmino de difusi\u00f3n) y mueren constantemente.\n",
      "\n",
      "Nuestro objetivo es modelar la propagaci\u00f3n de la rabia entre los perros.\n",
      "\n",
      "El ritmo de infecci\u00f3n se asume como proporcional a la densidad de poblaci\u00f3n, no hay reproducci\u00f3n o m\u00e1s contagios:\n",
      "\n",
      "Los modelos de la propagaci\u00f3n de una infecci\u00f3n han sido usados en el \u00faltimo siglo para determinar el comportamiento de virus, como la rabia.\n",
      "\n",
      "Los estudios han demostrado que la propagaci\u00f3n de la rabia se puede modelar como una funci\u00f3n de onda. \n",
      "\n",
      "En estre trabajo usamos ecuaciones del esparcimiento de la rabia utilizando datos reales.\n",
      "\n",
      "A continuaci\u00f3n vamos a mencionar los par\u00e1metros que vamos a usar."
     ]
    },
    {
     "cell_type": "heading",
     "level": 3,
     "metadata": {},
     "source": [
      "Par\u00e1metros"
     ]
    },
    {
     "cell_type": "markdown",
     "metadata": {},
     "source": [
      "$S$ $\\rightarrow$ Perros suceptibles a ser infectados (Grupo A)\n",
      "\n",
      "$I$ $\\rightarrow$ Perros infectados (Grupo B)\n",
      "\n",
      "$a$ $\\rightarrow$  velocidad a la que mueren los perros con rabia\n",
      "\n",
      "$D$ $\\rightarrow$ constante de difusi\u00f3n\n",
      "\n",
      "$r$ $\\rightarrow$  coeficiente de interacci\u00f3n entre infectados y no infectados.\n",
      "\n",
      "$S_0$ $\\rightarrow$ poblaci\u00f3n inicial de no infectados, pero suceptibles a ser infectados\n",
      "\n",
      "$m$ $\\rightarrow$  constante de adimensionalizaci\u00f3n (se necesita para resolver numericamente) $m= \\frac{a}{rS_0}$\n",
      "\n",
      "$c$ $\\rightarrow$  velocidad de la onda de propagaci\u00f3n. $c\\geq2\\sqrt{1-m}$\n",
      "\n",
      "ti $\\rightarrow$  tiempo inicial\n",
      "\n",
      "h $\\rightarrow$  paso del tiempo\n",
      "\n",
      "tf $\\rightarrow$  tiempo final \n",
      "\n"
     ]
    },
    {
     "cell_type": "heading",
     "level": 3,
     "metadata": {},
     "source": [
      "Datos recabados para obtener las condiciones iniciales."
     ]
    },
    {
     "cell_type": "heading",
     "level": 4,
     "metadata": {},
     "source": [
      "Velocidad de Propagaci\u00f3n"
     ]
    },
    {
     "cell_type": "markdown",
     "metadata": {},
     "source": [
      "Existe una velocidad de propagaci\u00f3n entre los grupos de perros. \n",
      "\n",
      "Se sabe que $\\frac{2}{3}$ de los perros suceptibles a infectarse interaccionan con perros ya infectados. Es decir, un 66.66%. $\\rightarrow$ $r=0.66$\n",
      "\n",
      "Otro dato obtenido de la investigaci\u00f3n previa es que un 90% de los perros que tienen rabia mueren. $\\rightarrow$ $a=0.90$\n",
      "\n",
      "Adem\u00e1s, la poblaci\u00f3n de perros no infectados, suceptibles a infectarse, es del 99.83% $\\rightarrow$ $S_0=0.9983$\n",
      "\n",
      "Con estos datos anteriores tenemos que la constante adimensional es $m=\\frac{0.66}{(0.90)(0.9983)}$ $\\rightarrow$ $m=0.73$\n",
      "\n",
      "Con estos datos, podemos obtener la velocidad de propagaci\u00f3n que es $c\\geq2\\sqrt{1-0.73}$ $\\rightarrow$ $c\\geq1.032$\n",
      "\n",
      "Vamos a considerar $c=1.032$ como punto de partida."
     ]
    },
    {
     "cell_type": "heading",
     "level": 3,
     "metadata": {},
     "source": [
      "El comportamiento te\u00f3rico."
     ]
    },
    {
     "cell_type": "markdown",
     "metadata": {},
     "source": [
      "En el art\u00edculo  *\"Reaction-Diffusion equations with applications\"* de Christina Kuttler se predice el siguiente comportamiento.\n",
      "\n",
      "![diagrama](1.png)\n",
      "\n",
      "Estos diagramas nos muestran que la poblaci\u00f3n susceptible es mon\u00f3tona decreciente, mientras que en la poblaci\u00f3n infecciosa aparece un pico.\n",
      "\n",
      "Despu\u00e9s se har\u00e1 el an\u00e1lisis de este comportamiento.\n",
      "\n",
      "A continuaci\u00f3n usaremos el c\u00f3mputo para modelar, con datos reales, el comportamiento."
     ]
    },
    {
     "cell_type": "heading",
     "level": 3,
     "metadata": {},
     "source": [
      "Definiendo el m\u00e9todo de Integraci\u00f3n RK4"
     ]
    },
    {
     "cell_type": "markdown",
     "metadata": {},
     "source": [
      "Para poder modelar el comportamiento ser\u00e1 necesario tener un m\u00e9todo de integraci\u00f3n. \n",
      "\n",
      "Usaremos Runge Kutta 4. \n",
      "\n",
      "Primero definimos el M\u00e9todo de RK4 y despu\u00e9s la funci\u00f3n de integraci\u00f3n que lo usar\u00e1."
     ]
    },
    {
     "cell_type": "code",
     "collapsed": false,
     "input": [
      "using PyPlot"
     ],
     "language": "python",
     "metadata": {},
     "outputs": [],
     "prompt_number": 8
    },
    {
     "cell_type": "code",
     "collapsed": false,
     "input": [
      "k_1(x,t,f,h)=f(x,t)\n",
      "k_2(x,t,f,h)=f(x+h*0.5*k_1(x,t,f,h),t+0.5*h)\n",
      "k_3(x,t,f,h)=f(x+h*0.5*k_2(x,t,f,h),t+0.5*h)\n",
      "k_4(x,t,f,h)=f(x+h*k_3(x,t,f,h),t+0.5*h)"
     ],
     "language": "python",
     "metadata": {},
     "outputs": [
      {
       "metadata": {},
       "output_type": "pyout",
       "prompt_number": 9,
       "text": [
        "k_4 (generic function with 1 method)"
       ]
      }
     ],
     "prompt_number": 9
    },
    {
     "cell_type": "code",
     "collapsed": false,
     "input": [
      "function integrar(f,x0,t0,tf,h)\n",
      "    \n",
      "    eu=Vector{Float64}[[x0]]\n",
      "    ptm=Vector{Float64}[[x0]]\n",
      "    rk4=Vector{Float64}[[x0]]\n",
      "    t=Float64[t0]\n",
      "    \n",
      "            for i in t0:h:tf\n",
      "        \n",
      "                rk4_nueva=x0+h*(1/3*k_1(x0,t0,f,h)+1/6*k_2(x0,t0,f,h)+1/6*k_3(x0,t0,f,h)+1/3*k_4(x0,t0,f,h))\n",
      "        \n",
      "                t0=t0+h\n",
      "                x0=rk4_nueva\n",
      "        \n",
      "        \n",
      "                push!(t,t0)\n",
      "                push!(rk4,[x0])\n",
      "            \n",
      "            end\n",
      "        \n",
      "        \n",
      "         t,hcat(rk4...)'\n",
      "            \n",
      "        \n",
      "    \n",
      "end"
     ],
     "language": "python",
     "metadata": {},
     "outputs": [
      {
       "metadata": {},
       "output_type": "pyout",
       "prompt_number": 10,
       "text": [
        "integrar (generic function with 1 method)"
       ]
      }
     ],
     "prompt_number": 10
    },
    {
     "cell_type": "heading",
     "level": 3,
     "metadata": {},
     "source": [
      "Ecuaciones"
     ]
    },
    {
     "cell_type": "heading",
     "level": 4,
     "metadata": {},
     "source": [
      "Caso 1 . Sin din\u00e1mica de Poblaci\u00f3n"
     ]
    },
    {
     "cell_type": "markdown",
     "metadata": {},
     "source": [
      "El hecho de no tomar en cuenta la din\u00e1mica de Poblaci\u00f3n en el grupo de perros suceptibles (S) quiere decir que el cambi\u00f3 en su poblaci\u00f3n solo depende de la interacci\u00f3n con los infectados, mientras que la poblacion de perros infectados depende de la interaccion con los suceptibles, que tan rapido se mueran y del t\u00e9rmino de difusi\u00f3n, es decir:\n",
      "\n",
      "\n",
      "$$\\frac{dS}{dt}=-rIS$$\n",
      "\n",
      "$$\\frac{dI}{dt}=rIS -aI-D\\frac{d^2 I}{dx^2}$$\n",
      "\n",
      "\n",
      "Adimensionalizando esta ecuaci\u00f3n al introducir $m=\\frac{a}{rS_0}$ y considerando que se propagan como ondas:\n",
      "\n",
      "$$I=I(x-ct)=I(z)$$\n",
      "\n",
      "$$S=S(x-ct)=S(z)$$\n",
      "\n",
      "Y con la regla de la cadena, llegamos a las siguientes ecuaciones en funci\u00f3n de la variable z:\n",
      "\n",
      "$$ cS'= IS$$\n",
      "\n",
      "$$ I'' - cI + (S-m)I= 0$$\n",
      "\n",
      "Introducimos las siguientes condiciones de frontera al suponer que muy lejos la poblaci\u00f3n de zorros infectados desaparece, y solo queda la poblacion de zorros suceptibles.\n",
      "\n",
      "\n",
      "$$S(+ \\infty)=1$$\n",
      "\n",
      "\n",
      "$$I(- \\infty)=0$$\n",
      "\n",
      "Al tambi\u00e9n suponer que despu\u00e9s del paso de la onda no hay fuentes de infeccion ,ya que la mayor\u00eda de los casos de rabia son fatales, y que la poblaci\u00f3n de zorros se termina por estabilizar tambien tenmos las condiciones:\n",
      "\n",
      "$$I(-\\infty)=0$$\n",
      "\n",
      "y \n",
      "\n",
      "\n",
      "$$S'(-\\infty)=0$$\n",
      "\n",
      "\n",
      "Estas consideraciones son analizadas en [1] y dan como resultado que c debe complir con que $c\\geq2\\sqrt{1-m}$\n",
      "\n",
      "\n",
      "introduciendo la variable $I'=v$, tenemos el sistema:\n",
      "\n",
      "$$I'=v$$\n",
      "\n",
      "$$S'=\\frac{IS}{c}$$\n",
      "\n",
      "$$v'=-cv-(S-m)I$$\n",
      "\n",
      "Ecuaciones que traducimos en una funci\u00f3n vectorial para que sean resueltas por el m\u00e9tododo de Runge-Kutta.\n",
      "\n"
     ]
    },
    {
     "cell_type": "heading",
     "level": 4,
     "metadata": {},
     "source": [
      "Defininiendo las ecuaciones (Sin din\u00e1mica de Poblaci\u00f3n)"
     ]
    },
    {
     "cell_type": "code",
     "collapsed": false,
     "input": [
      "function rabies_nb(x,t)\n",
      "    I=x[1]\n",
      "    S=x[2]\n",
      "    v=x[3]\n",
      "\n",
      "\n",
      "    if I>0 #Si el grupo de infectados es mayor a cero queremos solucionar las ecuaciones propuestas\n",
      "    \n",
      "    [v, (I*S)/1.03, -1.03*v-(S-0.73)*I]\n",
      "\n",
      "else\n",
      "    \n",
      "    [0, 0, 0] #Cuando I=0 supongo que la rabia se erradica y por lo tanto I=I'=I''=0.\n",
      "\n",
      "end\n",
      "\n",
      "end\n",
      "    "
     ],
     "language": "python",
     "metadata": {},
     "outputs": [
      {
       "metadata": {},
       "output_type": "pyout",
       "prompt_number": 26,
       "text": [
        "rabies_nb (generic function with 1 method)"
       ]
      }
     ],
     "prompt_number": 26
    },
    {
     "cell_type": "heading",
     "level": 4,
     "metadata": {},
     "source": [
      "Caso 2 . Con Din\u00e1mica de Poblaci\u00f3n"
     ]
    },
    {
     "cell_type": "markdown",
     "metadata": {},
     "source": [
      "A continuaci\u00f3n solucionar\u00e9 el sistema de ecuaciones resultante de considerar que:\n",
      "\n",
      "La poblaci\u00f3n de perros sucebtibles sin la presencia de los infectados presenta dinamicas de poblaci\u00f3n modeladas por la ecuaci\u00f3n log\u00edstica:\n",
      "\n",
      "$$\\frac{dS}{dt}=BS(1-\\frac{S}{S_0})$$, lo que nos da un nuevo conjunto de ecuaciones:\n",
      "\n",
      "\n",
      "$$\\frac{dS}{dt}=-rIS+BS(1-\\frac{S}{S_0})$$\n",
      "$$\\frac{dI}{dt}=rIS -aI-D\\frac{d^2 I}{dx^2}$$\n",
      "\n",
      "Suponiendo, como en el sistema anterior, que las soluciones se comportan como ondas tenemos el sistema:\n",
      "\n",
      "$$\\frac{dS}{dz}=\\frac{1}{c}(rIS-BS(1-\\frac{S}{S_0}))$$\n",
      "\n",
      "$$\\frac{dI}{dz}=\\frac{1}{c}(-rIS +aI-D\\frac{d^2 I}{dx^2})$$\n",
      "\n",
      "\n",
      "introduciendo la variable $v=I'$, y reescribiendo las ecuaciones anteriores tenemos el siguiente sistema a resolver:\n",
      "\n",
      "\n",
      "$$I'=v$$\n",
      "\n",
      "$$S'=\\frac{1}{c}(rIS+BS(1-\\frac{S}{S_0}))$$\n",
      "\n",
      "$$v'= \\frac{1}{D}(-v-(rs-a)I)$$"
     ]
    },
    {
     "cell_type": "heading",
     "level": 4,
     "metadata": {},
     "source": [
      "Defininiendo las ecuaciones (Con din\u00e1mica de Poblaci\u00f3n)"
     ]
    },
    {
     "cell_type": "code",
     "collapsed": false,
     "input": [
      "function rabies_dip(x,t) \n",
      "    \n",
      "    I=x[1]\n",
      "    S=x[2]\n",
      "    v=x[3]\n",
      "  \n",
      "if I>0\n",
      "        [v, (0.66*I*S+0.1*S*(1-S/1))/1.03, (-v-(0.66*S-0.90)*I)/0.56]#aqui se propuso una poblaci\u00f3n tope de S0=1\n",
      "   \n",
      "    else\n",
      "    \n",
      "        [0, 0.1S*(1-S/1)/1.03, 0] #dejamos la segunda entrada diferente de cero ya que poniendo I y sus derivadas iguales a cero\n",
      "        #este t\u00e9rmino no se elimina\n",
      "\n",
      "end\n",
      "\n",
      "\n",
      "end"
     ],
     "language": "python",
     "metadata": {},
     "outputs": [
      {
       "metadata": {},
       "output_type": "pyout",
       "prompt_number": 35,
       "text": [
        "rabies_dip (generic function with 1 method)"
       ]
      }
     ],
     "prompt_number": 35
    },
    {
     "cell_type": "heading",
     "level": 3,
     "metadata": {},
     "source": [
      "Utilizando las ecuaciones"
     ]
    },
    {
     "cell_type": "markdown",
     "metadata": {},
     "source": [
      "A partir de los datos recabados y las ecuaciones definidas podemos modelar el comportamiento de poblacion suceptibles y perros infectados. \n",
      "\n",
      "Las condiciones iniciales que usaremos son :\n",
      "\n",
      "$r=0.66$\n",
      "\n",
      "$a=0.9$\n",
      "\n",
      "$D=0.56$\n",
      "\n",
      "$B=0.1$\n",
      "\n",
      "$S_0=1$"
     ]
    },
    {
     "cell_type": "heading",
     "level": 4,
     "metadata": {},
     "source": [
      "1. Sin Din\u00e1mica de Poblaci\u00f3n"
     ]
    },
    {
     "cell_type": "code",
     "collapsed": false,
     "input": [
      "x0=[0.0017,0.9983,1.03];\n",
      "\n",
      "\n",
      "tps,resultados_rab=integrar(rabies_nb,x0,0,20,0.01)\n",
      "\n",
      "plot(tps,resultados_rab[:;1],label=\"Suceptibles\")\n",
      "plot(tps,resultados_rab[:;2],label=\"Infectados\")\n",
      "legend()"
     ],
     "language": "python",
     "metadata": {},
     "outputs": [
      {
       "metadata": {},
       "output_type": "display_data",
       "png": "[encoded data removed]",
       "text": [
        "Figure(PyObject <matplotlib.figure.Figure object at 0xab0b31ac>)"
       ]
      },
      {
       "metadata": {},
       "output_type": "pyout",
       "prompt_number": 38,
       "text": [
        "PyObject <matplotlib.legend.Legend object at 0xaae7006c>"
       ]
      }
     ],
     "prompt_number": 38
    },
    {
     "cell_type": "heading",
     "level": 5,
     "metadata": {},
     "source": [
      "An\u00e1lisis 1. "
     ]
    },
    {
     "cell_type": "markdown",
     "metadata": {},
     "source": [
      "Esto nos dice que para $z=x-ct$ muy grandes la poblaci\u00f3n de Suceptibles se vuelve constante, mientras que la de Infectados desaparece, como se esperaba del modelo, mientras que para valores de $z$ entre 0 y 4 (aproximadamente) observamos el crecimiento de infectados como de suceptibles, donde se ve un m\u00e1ximo de la poblaci\u00f3n infectada y la sucebtible crece constantemente."
     ]
    },
    {
     "cell_type": "heading",
     "level": 4,
     "metadata": {},
     "source": [
      "2. Con Din\u00e1mica de Poblaci\u00f3n"
     ]
    },
    {
     "cell_type": "code",
     "collapsed": false,
     "input": [
      "x1=[0.0017,0.9983,1.03]\n",
      "\n",
      "tps2,resultados_dip=integrar(rabies_dip,x1,0,20,0.01);\n",
      "plot(tps2,resultados_dip[:;1],label=\"Suceptibles\")\n",
      "plot(tps2,resultados_dip[:;2],label=\"Infectados\")\n",
      "legend()"
     ],
     "language": "python",
     "metadata": {},
     "outputs": [
      {
       "metadata": {},
       "output_type": "display_data",
       "png": "[encoded data removed]",
       "text": [
        "Figure(PyObject <matplotlib.figure.Figure object at 0xabde652c>)"
       ]
      },
      {
       "metadata": {},
       "output_type": "pyout",
       "prompt_number": 22,
       "text": [
        "PyObject <matplotlib.legend.Legend object at 0xab25206c>"
       ]
      }
     ],
     "prompt_number": 22
    },
    {
     "cell_type": "heading",
     "level": 5,
     "metadata": {},
     "source": [
      "An\u00e1lisis 2."
     ]
    },
    {
     "cell_type": "markdown",
     "metadata": {},
     "source": [
      "Tiene un comportamiento similar al del caso anterior con la diferencia de que ahora la poblaci\u00f3n de perros suceptibles sigue cambiando hasta estabilizarse en $S_0=1$ ya que consideramos la ecuaci\u00f3n log\u00edstica para esta poblaci\u00f3n"
     ]
    },
    {
     "cell_type": "heading",
     "level": 3,
     "metadata": {},
     "source": [
      "Conclusiones"
     ]
    },
    {
     "cell_type": "markdown",
     "metadata": {},
     "source": [
      "La gr\u00e1fica obtenida nos muestra un comportamiento esperado.\n",
      "\n",
      "Adem\u00e1s, podemos comparar los modelos con Din\u00e1mica de Poblaci\u00f3n y Sin Din\u00e1mica de Poblaci\u00f3n en una misma gr\u00e1fica como se muestra a continuaci\u00f3n. "
     ]
    },
    {
     "cell_type": "code",
     "collapsed": false,
     "input": [
      "plot(tps,resultados_rab[:;2],label=\"SinDinPoblacion\")\n",
      "plot(tps2,resultados_dip[:;2],label=\"ConDinPoblacion\")\n",
      "legend()"
     ],
     "language": "python",
     "metadata": {},
     "outputs": [
      {
       "metadata": {},
       "output_type": "display_data",
       "png": "[encoded data removed]",
       "text": [
        "Figure(PyObject <matplotlib.figure.Figure object at 0xa9ad538c>)"
       ]
      },
      {
       "metadata": {},
       "output_type": "pyout",
       "prompt_number": 63,
       "text": [
        "PyObject <matplotlib.legend.Legend object at 0xa9abdeec>"
       ]
      }
     ],
     "prompt_number": 63
    },
    {
     "cell_type": "markdown",
     "metadata": {},
     "source": [
      "Las gr\u00e1ficas nos indican a grandes rasgos que mientras m\u00e1s perros infectados haya, aumenta la cantidad de perros que se pueden llegar a contagiar. Podemos, adem\u00e1s, conluir que con los datos proporcionados en nuestros sistemas de ecuaciones y las consideraciones sobre el comportamiento asint\u00f3tico de nuestras soluciones se consigue un modelo que se comporta adecuadamente."
     ]
    },
    {
     "cell_type": "heading",
     "level": 3,
     "metadata": {},
     "source": [
      "Bibliograf\u00eda"
     ]
    },
    {
     "cell_type": "markdown",
     "metadata": {},
     "source": [
      " - Reaction Diffusion Equations with Applications - Christina Kuttler\n",
      " \n",
      "- Institute for International Cooperation In Animals Biologics -  Iowa State Univeristy"
     ]
    },
    {
     "cell_type": "heading",
     "level": 1,
     "metadata": {},
     "source": [
      "END"
     ]
    }
   ],
   "metadata": {}
  }
 ]
}