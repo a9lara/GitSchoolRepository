{
 "metadata": {
  "language": "Julia",
  "name": "",
  "signature": "sha256:32951a1bf966a9621c5b1857d905cb15803719f02b7a3c5f7d84f72982f9111e"
 },
 "nbformat": 3,
 "nbformat_minor": 0,
 "worksheets": [
  {
   "cells": [
    {
     "cell_type": "heading",
     "level": 1,
     "metadata": {},
     "source": [
      "Lara D.I. Armando J. "
     ]
    },
    {
     "cell_type": "heading",
     "level": 2,
     "metadata": {},
     "source": [
      "Proyecto Final F\u00edsica Computacional"
     ]
    },
    {
     "cell_type": "heading",
     "level": 2,
     "metadata": {},
     "source": [
      "UNAM"
     ]
    },
    {
     "cell_type": "heading",
     "level": 2,
     "metadata": {},
     "source": [
      " Modelo de la aparici\u00f3n de no conformistas en una sociedad."
     ]
    },
    {
     "cell_type": "heading",
     "level": 4,
     "metadata": {},
     "source": [
      "Introduci\u00f3n"
     ]
    },
    {
     "cell_type": "markdown",
     "metadata": {},
     "source": [
      "En un libro titulado  $\\textit{Looking at History Through Mathematics}$, se propone un modelo de un problema referente a la aparici\u00f3n de no conformistas de la sociedad. Supongamos que una sociedad tiene una poblaci\u00f3n de $x(t)$ individuos en el tiempo $t$ , en a\u00f1os, y que todos los no conformistas que tienen relaciones sexuales con otros no conformistas engendran hijos que tambien son no conformistas, mientras que una porci\u00f3n fija $r$ del resto de los hijos tambi\u00e9n son no conformistas."
     ]
    },
    {
     "cell_type": "heading",
     "level": 4,
     "metadata": {},
     "source": [
      "Desarrollo"
     ]
    },
    {
     "cell_type": "markdown",
     "metadata": {},
     "source": [
      "- Si suponemos que las tasas de natalidad y mortalidad de todos los individuos son las constantes $b$ y $d$ respectivamente, y si los conformitas y no conformistas tienen relaciones sexuales al azar, el problema se puede expresar mediante las ecuaciones diferenciales $\\frac{dx(t)}{dt} = (b-d)x(t)$ y $\\frac{dx_n(t)}{dt}=(b-d)x_n(t)+rb(x(t)-x_n(t))$, donde $x_n(t)$ denota la cantidad de no conformistas de la poblaci\u00f3n en el tiempo $t$. Adem\u00e1s, si introducimos la variable $p(t)=\\frac{x_n(t)}{x(t)}$ para representar la proporc\u00f3n de no conformistas de la sociedad en el tiempo $t$, estas ecuaciones pueden combinarse y simplificarse en la ecuaci\u00f3n diferencial individial $\\frac{dp(t)}{dt}=rb(1-p(t))$."
     ]
    },
    {
     "cell_type": "markdown",
     "metadata": {},
     "source": [
      "Definimos las funciones"
     ]
    },
    {
     "cell_type": "code",
     "collapsed": false,
     "input": [
      "function CantidadDeNoConformistas(b,d,x0,h,r,p,ti,tf)\n",
      "    (b-d)*x0*h\n",
      "end"
     ],
     "language": "python",
     "metadata": {},
     "outputs": [
      {
       "metadata": {},
       "output_type": "pyout",
       "prompt_number": 28,
       "text": [
        "CantidadDeNoConformistas (generic function with 4 methods)"
       ]
      }
     ],
     "prompt_number": 28
    },
    {
     "cell_type": "code",
     "collapsed": false,
     "input": [
      "function VNoConformistas1(b,d,x0,h,r,p,ti,tf)\n",
      "    ((b-d)*x0+r*b*(x0-CantidadDeNoConformistas(b,d,x0,h,r,p,ti,tf)))\n",
      "end"
     ],
     "language": "python",
     "metadata": {},
     "outputs": [
      {
       "metadata": {},
       "output_type": "pyout",
       "prompt_number": 29,
       "text": [
        "VNoConformistas1 (generic function with 3 methods)"
       ]
      }
     ],
     "prompt_number": 29
    },
    {
     "cell_type": "code",
     "collapsed": false,
     "input": [
      "function VariableP(b,d,x0,h,r,p,ti,tf)\n",
      "    (VNoConformistas1(b,d,x0,h,r,p,ti,tf)*h)/CantidadDeNoConformistas(b,d,x0,h,r,p,ti,tf)\n",
      "end"
     ],
     "language": "python",
     "metadata": {},
     "outputs": [
      {
       "metadata": {},
       "output_type": "pyout",
       "prompt_number": 30,
       "text": [
        "VariableP (generic function with 3 methods)"
       ]
      }
     ],
     "prompt_number": 30
    },
    {
     "cell_type": "code",
     "collapsed": false,
     "input": [
      "function VNoConformistas2UsandoLaVariableP(b,d,x0,h,r,p,ti,tf)\n",
      "    r*b*(1-VariableP(b,d,x0,h,r,p,ti,tf))\n",
      "end"
     ],
     "language": "python",
     "metadata": {},
     "outputs": [
      {
       "metadata": {},
       "output_type": "pyout",
       "prompt_number": 31,
       "text": [
        "VNoConformistas2UsandoLaVariableP (generic function with 1 method)"
       ]
      }
     ],
     "prompt_number": 31
    },
    {
     "cell_type": "markdown",
     "metadata": {},
     "source": [
      "- 1) Suponiendo que $p(0)=0.01$, $b=0.02$, $d=0.015$ y $r=0.1$, aproxime la soluci\u00f3n $p(t)$ de $t=0$ a $t=50$ con el tama\u00f1o de paso $h=1$ a\u00f1o. Use el m\u00e9todo de Runge Kutta 4."
     ]
    },
    {
     "cell_type": "code",
     "collapsed": false,
     "input": [],
     "language": "python",
     "metadata": {},
     "outputs": [],
     "prompt_number": 9
    },
    {
     "cell_type": "markdown",
     "metadata": {},
     "source": [
      "- 2) Resuelva la ecuaci\u00f3n diferencial para $p(t)$ exactamente y compare su resultado del inciso 2) cuando $t=50$ con el valor exacto en ese tiempo."
     ]
    },
    {
     "cell_type": "code",
     "collapsed": false,
     "input": [],
     "language": "python",
     "metadata": {},
     "outputs": [],
     "prompt_number": 10
    },
    {
     "cell_type": "markdown",
     "metadata": {},
     "source": [
      "- 3) Muestre, es una misma gr\u00e1fica, la soluci\u00f3n num\u00e9rica y la soluci\u00f3n exacta."
     ]
    },
    {
     "cell_type": "code",
     "collapsed": false,
     "input": [],
     "language": "python",
     "metadata": {},
     "outputs": [],
     "prompt_number": 11
    },
    {
     "cell_type": "markdown",
     "metadata": {},
     "source": [
      "- 4) Para las tablas $t$ $vs$ $p$ (para cada m\u00e9todo num\u00e9rico y la soluci\u00f3n exacta), tomando seis puntos igualmente espaciados, in terpolar polinomios de Newton. Graficar polinomios. Formule apreciaciones cualitativas, obtenidas del an\u00e1lisis de las gr\u00e1 ficas."
     ]
    },
    {
     "cell_type": "code",
     "collapsed": false,
     "input": [],
     "language": "python",
     "metadata": {},
     "outputs": [],
     "prompt_number": 13
    },
    {
     "cell_type": "markdown",
     "metadata": {},
     "source": [
      "- 5)Para las tablas $t$ $vs$ $x$ y $t$ $vs$ $x'$ (para cada m\u00e9todo num\u00e9rico y la soluci\u00f3n exacta),\n",
      "tomando seis puntos igualmente espaciados, interpolar polinomios de Hermite. Graficar estos polinomios. Formule apreciaciones cualitativas, obtenidas del an\u00e1lisis de lasgr\u00e1ficas."
     ]
    },
    {
     "cell_type": "code",
     "collapsed": false,
     "input": [],
     "language": "python",
     "metadata": {},
     "outputs": []
    },
    {
     "cell_type": "heading",
     "level": 4,
     "metadata": {},
     "source": [
      "Bibliograf\u00eda"
     ]
    },
    {
     "cell_type": "markdown",
     "metadata": {},
     "source": [
      "Proyecto sugerido por la Universidad Nacional Colombiana."
     ]
    },
    {
     "cell_type": "markdown",
     "metadata": {},
     "source": [
      "#END"
     ]
    }
   ],
   "metadata": {}
  }
 ]
}