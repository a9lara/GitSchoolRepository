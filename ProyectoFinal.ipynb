{
 "metadata": {
  "language": "Julia",
  "name": "",
  "signature": "sha256:2d2b694a44155cd42f89e08b1042a49ccc3dd1fb2dbec1e3382ff090b9773656"
 },
 "nbformat": 3,
 "nbformat_minor": 0,
 "worksheets": [
  {
   "cells": [
    {
     "cell_type": "heading",
     "level": 1,
     "metadata": {},
     "source": [
      "$$Lara D.I. Armando J.$$\n",
      "\n",
      "\n",
      "$$Miron Enriquez Pedro Elias$$"
     ]
    },
    {
     "cell_type": "heading",
     "level": 2,
     "metadata": {},
     "source": [
      "Proyecto Final F\u00edsica Computacional"
     ]
    },
    {
     "cell_type": "heading",
     "level": 2,
     "metadata": {},
     "source": [
      "UNAM"
     ]
    },
    {
     "cell_type": "heading",
     "level": 2,
     "metadata": {},
     "source": [
      " Modelo de la aparici\u00f3n de no conformistas en una sociedad."
     ]
    },
    {
     "cell_type": "heading",
     "level": 4,
     "metadata": {},
     "source": [
      "Introduci\u00f3n"
     ]
    },
    {
     "cell_type": "markdown",
     "metadata": {},
     "source": [
      "En un libro titulado  $\\textit{Looking at History Through Mathematics}$, se propone un modelo de un problema referente a la aparici\u00f3n de no conformistas de la sociedad. Supongamos que una sociedad tiene una poblaci\u00f3n de $s(t)$ individuos en el tiempo $t$ , en a\u00f1os, y que todos los no conformistas que tienen relaciones sexuales con otros no conformistas engendran hijos que tambien son no conformistas, mientras que una porci\u00f3n fija $r$ del resto de los hijos tambi\u00e9n son no conformistas."
     ]
    },
    {
     "cell_type": "heading",
     "level": 4,
     "metadata": {},
     "source": [
      "Desarrollo"
     ]
    },
    {
     "cell_type": "heading",
     "level": 4,
     "metadata": {},
     "source": [
      "Modelo bajo las ecuaciones"
     ]
    },
    {
     "cell_type": "markdown",
     "metadata": {},
     "source": [
      "- Si suponemos que las tasas de natalidad y mortalidad de todos los individuos son las constantes $b$ y $d$ respectivamente, y si los conformitas y no conformistas tienen relaciones sexuales al azar, el problema se puede expresar mediante las ecuaciones diferenciales $vs(t) = (b-d)s(t)$ y $vn(t)=(b-d)n(t)+rb(s(t)-n(t))$, donde $n(t)$ denota la cantidad de no conformistas de la poblaci\u00f3n en el tiempo $t$. Adem\u00e1s, si introducimos la variable $p(t)=\\frac{n(t)}{s(t)}$ para representar la proporc\u00f3n de no conformistas de la sociedad en el tiempo $t$, estas ecuaciones pueden combinarse y simplificarse en la ecuaci\u00f3n diferencial individial $vp(t)=rb(1-p(t))$."
     ]
    },
    {
     "cell_type": "heading",
     "level": 4,
     "metadata": {},
     "source": [
      "Objetivo"
     ]
    },
    {
     "cell_type": "markdown",
     "metadata": {},
     "source": [
      "Los conformistas y no conformistas tienen relaciones sexuales al azar, el objetivo es, mediante ecuaciones diferenciales ya establecidas hacer un modelo de la aparici\u00f3n de no conformistas en una sociedad.  "
     ]
    },
    {
     "cell_type": "heading",
     "level": 4,
     "metadata": {},
     "source": [
      "Notaci\u00f3n"
     ]
    },
    {
     "cell_type": "markdown",
     "metadata": {},
     "source": [
      "$s(t)$ representa el n\u00famero de INDIVIDUOS en una poblaci\u00f3n en un tiempo $t$.\n",
      "\n",
      "$vs(t)$ representa la velocidad con la que el n\u00famero de INDIVIDUOS en una poblaci\u00f3n crece conforme pasa el tiempo.\n",
      "\n",
      "$n(t)$ denota la cantidad de NO CONFORMISTAS de la poblaci\u00f3n en el tiempo $t$.\n",
      "\n",
      "$vn(t)$ representa la velocidad con la que el n\u00famero de NO CONFORMISTAS en una poblaci\u00f3n crece conforme pasa el tiempo.\n",
      "\n",
      "$b$ es la tasa de natalidad.\n",
      "\n",
      "$d$ es la tasa de mortalidad.\n",
      "\n",
      "Todos los NO CONFORMISTAS que tiene relaciones sexuales con otros NO CONFORMISTAS engendran hijos que tambi\u00e9n son NO CONFORMISTAS.\n",
      "\n",
      "$r$ es una cantidad fija del resto de los hijos de la poblaci\u00f3n que son NO CONFORMISTAS.\n",
      "\n",
      "$t$ se maneja en a\u00f1os."
     ]
    },
    {
     "cell_type": "heading",
     "level": 4,
     "metadata": {},
     "source": [
      "Ecuaci\u00f3nes"
     ]
    },
    {
     "cell_type": "markdown",
     "metadata": {},
     "source": [
      "Ecuaci\u00f3n diferencial que nos dice la velocidad con la que crece la poblaci\u00f3n cuando CONFORMISTAS y NO CONFORMISTAS tienen relaciones sexuales al azar.\n",
      " \n",
      " $vs(t) = (b-d)s(t)$            "
     ]
    },
    {
     "cell_type": "markdown",
     "metadata": {},
     "source": [
      "Ecuaci\u00f3n diferencial que nos dice la velocidad con la que aparecen NO CONFORMISTAS en una sociedad. \n",
      "\n",
      "$vn(t)=(b-d)n(t)+rb(s(t)-n(t))$"
     ]
    },
    {
     "cell_type": "markdown",
     "metadata": {},
     "source": [
      "Ecuaci\u00f3n que nos dice la proporc\u00f3n de NO CONFORMISTAS de la sociedad en el tiempo $t$,\n",
      "\n",
      "$p(t)=\\frac{n(t)}{s(t)}$"
     ]
    },
    {
     "cell_type": "markdown",
     "metadata": {},
     "source": [
      "Ecuaci\u00f3n diferencial que nos dice la velocidad con la cu\u00e1l la proporci\u00f3n de NO CONFORMISTAS de la sociedad crece.\n",
      "\n",
      "$vp(t)=rb(1-p(t))$."
     ]
    },
    {
     "cell_type": "heading",
     "level": 4,
     "metadata": {},
     "source": [
      "La notaci\u00f3n para las funciones ser\u00e1:"
     ]
    },
    {
     "cell_type": "markdown",
     "metadata": {},
     "source": [
      "\n",
      "\n",
      "$b$ $\\rightarrow$  tasa de natalidad.\n",
      "\n",
      "$d$ $\\rightarrow$  tasa de mortalidad.\n",
      "\n",
      "$r$ $\\rightarrow$  cantidad fija del resto de los hijos de la poblaci\u00f3n que son NO CONFORMISTAS.\n",
      "\n",
      "s0 $\\rightarrow$ El n\u00famero de INIDIVIDUOS en una sociedad en un tiempo inicial.\n",
      "\n",
      "n0 $\\rightarrow$  El n\u00famero de NO CONFORMISTAS en un tiempo inicial.\n",
      "\n",
      "p0 $\\rightarrow$ La proporc\u00f3n de NO CONFORMISTAS de la sociedad en un tiempo incial.\n",
      "\n",
      "ti $\\rightarrow$  tiempo inicial\n",
      "\n",
      "h $\\rightarrow$  paso del tiempo\n",
      "\n",
      "tf $\\rightarrow$  tiempo final \n",
      "\n",
      "\n",
      "\n",
      "\n",
      "\n"
     ]
    },
    {
     "cell_type": "heading",
     "level": 4,
     "metadata": {},
     "source": [
      "El orden ser\u00e1"
     ]
    },
    {
     "cell_type": "markdown",
     "metadata": {},
     "source": [
      "$(b,d,r,s0,n0,p0,ti,h,tf)$"
     ]
    },
    {
     "cell_type": "heading",
     "level": 4,
     "metadata": {},
     "source": [
      "Definimos las ecuaci\u00f3nes como funciones"
     ]
    },
    {
     "cell_type": "code",
     "collapsed": false,
     "input": [
      "function s(b,d,r,s0,n0,p0,ti,h,tf)\n",
      "    (b-d)*s0*h\n",
      "end"
     ],
     "language": "python",
     "metadata": {},
     "outputs": [
      {
       "metadata": {},
       "output_type": "pyout",
       "prompt_number": 70,
       "text": [
        "s (generic function with 2 methods)"
       ]
      }
     ],
     "prompt_number": 70
    },
    {
     "cell_type": "code",
     "collapsed": false,
     "input": [
      "function vs(b,d,r,s0,n0,p0,ti,h,tf)\n",
      "    (b-d)*s0\n",
      "end"
     ],
     "language": "python",
     "metadata": {},
     "outputs": [
      {
       "metadata": {},
       "output_type": "pyout",
       "prompt_number": 71,
       "text": [
        "vs (generic function with 2 methods)"
       ]
      }
     ],
     "prompt_number": 71
    },
    {
     "cell_type": "code",
     "collapsed": false,
     "input": [
      "function n(b,d,r,s0,n0,p0,ti,h,tf)\n",
      "    (b-d)*n0*h+r*b*(s0-n0)*h\n",
      "end"
     ],
     "language": "python",
     "metadata": {},
     "outputs": [
      {
       "metadata": {},
       "output_type": "pyout",
       "prompt_number": 72,
       "text": [
        "n (generic function with 2 methods)"
       ]
      }
     ],
     "prompt_number": 72
    },
    {
     "cell_type": "code",
     "collapsed": false,
     "input": [
      "function vn(b,d,r,s0,n0,p0,ti,h,tf)\n",
      "    (b-d)*n0+r*b*(s0-n0)\n",
      "end"
     ],
     "language": "python",
     "metadata": {},
     "outputs": [
      {
       "metadata": {},
       "output_type": "pyout",
       "prompt_number": 73,
       "text": [
        "vn (generic function with 2 methods)"
       ]
      }
     ],
     "prompt_number": 73
    },
    {
     "cell_type": "code",
     "collapsed": false,
     "input": [
      "function p(b,d,r,s0,n0,p0,ti,h,tf)\n",
      "    n(b,d,r,s0,n0,ti,h,tf)/s(b,d,r,s0,n0,ti,h,tf)\n",
      "end"
     ],
     "language": "python",
     "metadata": {},
     "outputs": [
      {
       "metadata": {},
       "output_type": "pyout",
       "prompt_number": 74,
       "text": [
        "p (generic function with 2 methods)"
       ]
      }
     ],
     "prompt_number": 74
    },
    {
     "cell_type": "code",
     "collapsed": false,
     "input": [
      "function vp(b,d,r,s0,n0,ti,h,tf)\n",
      "    r*b*(1-p0)\n",
      "end"
     ],
     "language": "python",
     "metadata": {},
     "outputs": [
      {
       "metadata": {},
       "output_type": "pyout",
       "prompt_number": 77,
       "text": [
        "vp (generic function with 1 method)"
       ]
      }
     ],
     "prompt_number": 77
    },
    {
     "cell_type": "heading",
     "level": 4,
     "metadata": {},
     "source": [
      "Definimos la funcion de RungeKutta 4"
     ]
    },
    {
     "cell_type": "markdown",
     "metadata": {},
     "source": [
      "- 1) Suponiendo que $p(0)=0.01$, $b=0.02$, $d=0.015$ y $r=0.1$, aproxime la soluci\u00f3n $p(t)$ de $t=0$ a $t=50$ con el tama\u00f1o de paso $h=1$ a\u00f1o. Use el m\u00e9todo de Runge Kutta 4."
     ]
    },
    {
     "cell_type": "code",
     "collapsed": false,
     "input": [],
     "language": "python",
     "metadata": {},
     "outputs": [],
     "prompt_number": 9
    },
    {
     "cell_type": "markdown",
     "metadata": {},
     "source": [
      "- 2) Resuelva la ecuaci\u00f3n diferencial para $p(t)$ exactamente y compare su resultado cuando $t=50$ con el valor exacto en ese tiempo."
     ]
    },
    {
     "cell_type": "code",
     "collapsed": false,
     "input": [],
     "language": "python",
     "metadata": {},
     "outputs": [],
     "prompt_number": 10
    },
    {
     "cell_type": "markdown",
     "metadata": {},
     "source": [
      "- 3) Muestre, es una misma gr\u00e1fica, la soluci\u00f3n num\u00e9rica y la soluci\u00f3n exacta."
     ]
    },
    {
     "cell_type": "code",
     "collapsed": false,
     "input": [],
     "language": "python",
     "metadata": {},
     "outputs": [],
     "prompt_number": 11
    },
    {
     "cell_type": "markdown",
     "metadata": {},
     "source": [
      "- 4) Para las tablas $t$ $vs$ $p$ (para cada m\u00e9todo num\u00e9rico y la soluci\u00f3n exacta), tomando seis puntos igualmente espaciados, in terpolar polinomios de Newton. Graficar polinomios. Formule apreciaciones cualitativas, obtenidas del an\u00e1lisis de las gr\u00e1 ficas."
     ]
    },
    {
     "cell_type": "code",
     "collapsed": false,
     "input": [],
     "language": "python",
     "metadata": {},
     "outputs": [],
     "prompt_number": 13
    },
    {
     "cell_type": "markdown",
     "metadata": {},
     "source": [
      "- 5)Para las tablas $t$ $vs$ $x$ y $t$ $vs$ $x'$ (para cada m\u00e9todo num\u00e9rico y la soluci\u00f3n exacta),\n",
      "tomando seis puntos igualmente espaciados, interpolar polinomios de Hermite. Graficar estos polinomios. Formule apreciaciones cualitativas, obtenidas del an\u00e1lisis de lasgr\u00e1ficas."
     ]
    },
    {
     "cell_type": "heading",
     "level": 4,
     "metadata": {},
     "source": [
      "Para hacer el problema un poco mas interesante podemos incluir un factor de dispersi\u00f3n, para saber como este t\u00e9rmno es manejado en el contexto de poblaciones, a continuaci\u00f3n va el desarrollo de un problema que lo hace."
     ]
    },
    {
     "cell_type": "heading",
     "level": 4,
     "metadata": {},
     "source": [
      "La propagaci\u00f3n de rabia"
     ]
    },
    {
     "cell_type": "markdown",
     "metadata": {},
     "source": [
      "Problema que encontr\u00e9 como ejemplo en las notas *\"Reaction-Diffusion equations with applications\"* de Christina Kuttler"
     ]
    },
    {
     "cell_type": "markdown",
     "metadata": {},
     "source": [
      "    La propagaci\u00f3n de rabia parece darse en ondas, por ejemplo, una que se origine de la frontera entre Rusia y Polonia donde la velocidad de propagaci\u00f3n es de aproximadamente 30 km/a\u00f1o.\n",
      "    \n",
      "   **Supocisiones sobre el sistema**\n",
      "    \n",
      "   - 1) Hay dos poblaciones de zorros:\n",
      "       - Zorros suceptibles a ser infectados S que son territoriales (no hay t\u00e9rmino de difusi\u00f3n).\n",
      "       - Zorros infectados I que muestran un comportamiento err\u00e1tico (t\u00e9rmino de difusi\u00f3n) y mueren constantemente.\n",
      "   \n",
      "   \n",
      "   \n",
      "   - 2) El ritmo de infecci\u00f3n se asume como proporcional a la densidad de poblaci\u00f3n, no hay reproducci\u00f3n o m\u00e1s contagios:\n",
      "   \n",
      "\n",
      "   - 3) La rabia se propaga como una onda\n",
      "\n",
      "    1) y 2) pueden ser modelados de la siguiente manera:\n",
      "    \n",
      "  $$\\frac{\\partial S}{\\partial t}= -rIS$$\n",
      "  \n",
      "  \n",
      "  $$\\frac{\\partial I}{\\partial t}= rIS -aI + D\\frac{\\partial^2 I}{\\partial t^2} $$\n",
      "  \n",
      "  \n",
      "   Adimensionalizando esta ecuaci\u00f3n al introducir $m=\\frac{a}{rS_0}$, tenemos el conjunto de ecuaciones:\n",
      "   \n",
      "   $$\\frac{\\partial S}{\\partial t}= -IS$$\n",
      "  \n",
      "  \n",
      "  $$\\frac{\\partial I}{\\partial t}= IS -mI + \\frac{\\partial^2 I}{\\partial t^2} $$\n",
      "  \n",
      "  \n",
      "  Por \u00faltimo al suponer que se propaga como una onda:\n",
      "  \n",
      "  $$S(x,t) = S(x-ct) = S(z)$$\n",
      "  \n",
      "  \n",
      "  $$I(x,t) = I(x-ct) = I(z)$$\n",
      "\n",
      "Lo que nos da como resultado las ecuaciones:\n",
      "\n",
      "$$ cS'= IS$$\n",
      "\n",
      "$$ I'' - cI + (S-m)I= 0$$\n",
      "\n",
      "Donde adem\u00e1s introducimos las siguientes condiciones de frontera al suponer que muy lejos la poblaci\u00f3n de zorros infectados desaparece, y solo queda la poblacion de zorros suceptibles.\n",
      "\n",
      "\n",
      "$$S(+ \\infty)=1$$\n",
      "\n",
      "\n",
      "$$I(- \\infty)=0$$\n",
      "\n",
      "Al tambi\u00e9n suponer que despu\u00e9s del paso de la onda no hay fuentes de infeccion ,ya que la mayor\u00eda de los casos de rabia son fatales, y que la poblaci\u00f3n de zorros se termina por estabilizar tambien tenmos las condiciones:\n",
      "\n",
      "$$I(-\\infty)=0$$\n",
      "\n",
      "y \n",
      "\n",
      "\n",
      "$$S'(-\\infty)=0$$\n",
      "\n",
      "Podemos sustituir una de las ecuaciones que describen el sistema en la otra, lo que nos da la ecuaci\u00f3n que queremos resolver:\n",
      "\n",
      "$$ I'' - cI + \\frac{cS'(S-m)}{S}= 0$$\n",
      "\n",
      "\n"
     ]
    },
    {
     "cell_type": "markdown",
     "metadata": {},
     "source": [
      "El modelo que considera dinamicas de poblecion se puede escribir como sigue:\n",
      "\n",
      "$$\\frac{\\partial S}{\\partial t}= -rIS +BS(1-\\frac{S}{S_0})$$\n",
      "\n",
      "\n",
      "$$\\frac{\\partial I}{\\partial t}= rIS -aI + D\\frac{\\partial^2 I}{\\partial t^2} $$\n"
     ]
    },
    {
     "cell_type": "heading",
     "level": 4,
     "metadata": {},
     "source": [
      "Bibliograf\u00eda"
     ]
    },
    {
     "cell_type": "markdown",
     "metadata": {},
     "source": [
      "Proyecto sugerido por la Universidad Nacional Colombiana."
     ]
    },
    {
     "cell_type": "markdown",
     "metadata": {},
     "source": [
      "#END"
     ]
    }
   ],
   "metadata": {}
  }
 ]
}